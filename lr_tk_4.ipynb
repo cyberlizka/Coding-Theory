{
  "nbformat": 4,
  "nbformat_minor": 0,
  "metadata": {
    "colab": {
      "provenance": []
    },
    "kernelspec": {
      "name": "python3",
      "display_name": "Python 3"
    },
    "language_info": {
      "name": "python"
    }
  },
  "cells": [
    {
      "cell_type": "code",
      "source": [
        "import numpy as np\n",
        "import random"
      ],
      "metadata": {
        "id": "edB1osBpC-Th"
      },
      "execution_count": null,
      "outputs": []
    },
    {
      "cell_type": "code",
      "source": [
        "def rec_err(w, H, B):\n",
        "    \"\"\"\n",
        "    Функция поиска и определения ошибки в сообщении.\n",
        "\n",
        "    Args:\n",
        "        w: Полученное сообщение с потенциальной ошибкой.\n",
        "        H: Проверочная матрица.\n",
        "        B: Матрица для расширения кода.\n",
        "\n",
        "    Returns:\n",
        "        Ошибка, если она была найдена, иначе None.\n",
        "    \"\"\"\n",
        "    s = w @ H % 2\n",
        "    if sum(s) <= 3:\n",
        "        return np.hstack((s, np.zeros(len(s), dtype=int)))\n",
        "    sB = s @ B % 2\n",
        "    if sum(sB) <= 3:\n",
        "        return np.hstack((np.zeros(len(s), dtype=int), sB))\n",
        "    for i in range(len(B)):\n",
        "        temp = (sB + B[i]) % 2\n",
        "        if sum(temp) <= 2:\n",
        "            ei = np.zeros(len(s), dtype=int)\n",
        "            ei[i] = 1\n",
        "            return np.hstack((ei, temp))\n",
        "    return None"
      ],
      "metadata": {
        "id": "GzBFK8IpC-RA"
      },
      "execution_count": null,
      "outputs": []
    },
    {
      "cell_type": "code",
      "source": [
        "def create_and_control_err(u, G, H, B, error_rate):\n",
        "    \"\"\"\n",
        "    Функция для имитации ошибки и проверки ее исправления.\n",
        "\n",
        "    Args:\n",
        "        u: Исходное сообщение.\n",
        "        G: Порождающая матрица.\n",
        "        H: Проверочная матрица.\n",
        "        B: Матрица для расширения кода.\n",
        "        error_rate: Количество ошибок, которые нужно добавить.\n",
        "    \"\"\"\n",
        "    print(\"Исходное сообщение:\", u)\n",
        "    w = u @ G % 2\n",
        "    print(\"Отправленное сообщение\", w)\n",
        "    error = np.zeros(w.shape[0], dtype=int)\n",
        "    error_indices = random.sample(range(w.shape[0]), error_rate)\n",
        "    for index in error_indices:\n",
        "        error[index] = 1\n",
        "    print(\"Допущенная ошибка:\", error)\n",
        "    w = (w + error) % 2\n",
        "    print(\"Сообщение с ошибкой\", w)\n",
        "    error = rec_err(w, H, B)\n",
        "    print(\"Вызовем get_error, получаем ошибку:\", error)\n",
        "    if error is None:\n",
        "        print(\"Ошибка обнаружена, исправить невозможно!\")\n",
        "        return\n",
        "    message = (w + error) % 2\n",
        "    print(\"Исправленное отправленное сообщение:\", message)\n",
        "    w = u @ G % 2\n",
        "    if not np.array_equal(w, message):\n",
        "        print(\"Сообщение было декодировано с ошибкой!\")"
      ],
      "metadata": {
        "id": "5gycwJbyC-Ou"
      },
      "execution_count": null,
      "outputs": []
    },
    {
      "cell_type": "code",
      "source": [
        "def read_muller_gen_matrix(r: int, m: int) -> np.ndarray:\n",
        "    \"\"\"\n",
        "    Генерация матрицы кода Рида-Мюллера.\n",
        "\n",
        "    Args:\n",
        "        r: Порядок кода.\n",
        "        m: Количество информационных бит.\n",
        "\n",
        "    Returns:\n",
        "        Матрица кода Рида-Мюллера.\n",
        "    \"\"\"\n",
        "    if r == 0:\n",
        "        return np.ones((1, 2 ** m), dtype=int)\n",
        "    if r == m:\n",
        "        G_m_m_1_m = read_muller_gen_matrix(m - 1, m)\n",
        "        bottom_row = np.zeros((1, 2 ** m), dtype=int)\n",
        "        bottom_row[0, -1] = 1\n",
        "        return np.vstack([G_m_m_1_m, bottom_row])\n",
        "    G_r_m_m_1 = read_muller_gen_matrix(r, m - 1)\n",
        "    G_r_m_1_m_m_1 = read_muller_gen_matrix(r - 1, m - 1)\n",
        "    top = np.hstack([G_r_m_m_1, G_r_m_m_1])\n",
        "    bottom = np.hstack([np.zeros((G_r_m_1_m_m_1.shape[0], G_r_m_1_m_m_1.shape[1]), dtype=int), G_r_m_1_m_m_1])\n",
        "    return np.vstack([top, bottom])"
      ],
      "metadata": {
        "id": "R_WsJfI8C-MK"
      },
      "execution_count": null,
      "outputs": []
    },
    {
      "cell_type": "code",
      "source": [
        "    print(\"Задаем матрицу B для расширенного кода Голея\")\n",
        "    B = np.array([[1, 1, 0, 1, 1, 1, 0, 0, 0, 1, 0, 1],\n",
        "                  [1, 0, 1, 1, 1, 0, 0, 0, 1, 0, 1, 1],\n",
        "                  [0, 1, 1, 1, 0, 0, 0, 1, 0, 1, 1, 1],\n",
        "                  [1, 1, 1, 0, 0, 0, 1, 0, 1, 1, 0, 1],\n",
        "                  [1, 1, 0, 0, 0, 1, 0, 1, 1, 0, 1, 1],\n",
        "                  [1, 0, 0, 0, 1, 0, 1, 1, 0, 1, 1, 1],\n",
        "                  [0, 0, 0, 1, 0, 1, 1, 0, 1, 1, 1, 1],\n",
        "                  [0, 0, 1, 0, 1, 1, 0, 1, 1, 1, 0, 1],\n",
        "                  [0, 1, 0, 1, 1, 0, 1, 1, 1, 0, 0, 1],\n",
        "                  [1, 0, 1, 1, 0, 1, 1, 1, 0, 0, 0, 1],\n",
        "                  [0, 1, 1, 0, 1, 1, 1, 0, 0, 0, 1, 1],\n",
        "                  [1, 1, 1, 1, 1, 1, 1, 1, 1, 1, 1, 0]])\n",
        "    print(B)"
      ],
      "metadata": {
        "colab": {
          "base_uri": "https://localhost:8080/"
        },
        "id": "cxYA3kHBC-Js",
        "outputId": "04fda98f-22ea-4f5b-f2f2-da7ffda6ef73"
      },
      "execution_count": null,
      "outputs": [
        {
          "output_type": "stream",
          "name": "stdout",
          "text": [
            "Задаем матрицу B для расширенного кода Голея\n",
            "[[1 1 0 1 1 1 0 0 0 1 0 1]\n",
            " [1 0 1 1 1 0 0 0 1 0 1 1]\n",
            " [0 1 1 1 0 0 0 1 0 1 1 1]\n",
            " [1 1 1 0 0 0 1 0 1 1 0 1]\n",
            " [1 1 0 0 0 1 0 1 1 0 1 1]\n",
            " [1 0 0 0 1 0 1 1 0 1 1 1]\n",
            " [0 0 0 1 0 1 1 0 1 1 1 1]\n",
            " [0 0 1 0 1 1 0 1 1 1 0 1]\n",
            " [0 1 0 1 1 0 1 1 1 0 0 1]\n",
            " [1 0 1 1 0 1 1 1 0 0 0 1]\n",
            " [0 1 1 0 1 1 1 0 0 0 1 1]\n",
            " [1 1 1 1 1 1 1 1 1 1 1 0]]\n"
          ]
        }
      ]
    },
    {
      "cell_type": "code",
      "source": [
        "print(\"\\nСтроим порождающую матрицу\")\n",
        "G = np.hstack((np.eye(12, 12, dtype=int), B))\n",
        "print(G)"
      ],
      "metadata": {
        "colab": {
          "base_uri": "https://localhost:8080/"
        },
        "id": "hebCZxb8C-Hb",
        "outputId": "990351ce-da0e-473b-d58e-294674bd1f56"
      },
      "execution_count": null,
      "outputs": [
        {
          "output_type": "stream",
          "name": "stdout",
          "text": [
            "\n",
            "Строим порождающую матрицу\n",
            "[[1 0 0 0 0 0 0 0 0 0 0 0 1 1 0 1 1 1 0 0 0 1 0 1]\n",
            " [0 1 0 0 0 0 0 0 0 0 0 0 1 0 1 1 1 0 0 0 1 0 1 1]\n",
            " [0 0 1 0 0 0 0 0 0 0 0 0 0 1 1 1 0 0 0 1 0 1 1 1]\n",
            " [0 0 0 1 0 0 0 0 0 0 0 0 1 1 1 0 0 0 1 0 1 1 0 1]\n",
            " [0 0 0 0 1 0 0 0 0 0 0 0 1 1 0 0 0 1 0 1 1 0 1 1]\n",
            " [0 0 0 0 0 1 0 0 0 0 0 0 1 0 0 0 1 0 1 1 0 1 1 1]\n",
            " [0 0 0 0 0 0 1 0 0 0 0 0 0 0 0 1 0 1 1 0 1 1 1 1]\n",
            " [0 0 0 0 0 0 0 1 0 0 0 0 0 0 1 0 1 1 0 1 1 1 0 1]\n",
            " [0 0 0 0 0 0 0 0 1 0 0 0 0 1 0 1 1 0 1 1 1 0 0 1]\n",
            " [0 0 0 0 0 0 0 0 0 1 0 0 1 0 1 1 0 1 1 1 0 0 0 1]\n",
            " [0 0 0 0 0 0 0 0 0 0 1 0 0 1 1 0 1 1 1 0 0 0 1 1]\n",
            " [0 0 0 0 0 0 0 0 0 0 0 1 1 1 1 1 1 1 1 1 1 1 1 0]]\n"
          ]
        }
      ]
    },
    {
      "cell_type": "code",
      "source": [
        "print(\"\\nСтроим проверочную матрицу\")\n",
        "H = np.vstack((np.eye(12, 12, dtype=int), B))\n",
        "print(H)"
      ],
      "metadata": {
        "colab": {
          "base_uri": "https://localhost:8080/"
        },
        "id": "Pfl1NyFIC-Ew",
        "outputId": "2d31d285-71f9-4e93-831b-fc1c04676941"
      },
      "execution_count": null,
      "outputs": [
        {
          "output_type": "stream",
          "name": "stdout",
          "text": [
            "\n",
            "Строим проверочную матрицу\n",
            "[[1 0 0 0 0 0 0 0 0 0 0 0]\n",
            " [0 1 0 0 0 0 0 0 0 0 0 0]\n",
            " [0 0 1 0 0 0 0 0 0 0 0 0]\n",
            " [0 0 0 1 0 0 0 0 0 0 0 0]\n",
            " [0 0 0 0 1 0 0 0 0 0 0 0]\n",
            " [0 0 0 0 0 1 0 0 0 0 0 0]\n",
            " [0 0 0 0 0 0 1 0 0 0 0 0]\n",
            " [0 0 0 0 0 0 0 1 0 0 0 0]\n",
            " [0 0 0 0 0 0 0 0 1 0 0 0]\n",
            " [0 0 0 0 0 0 0 0 0 1 0 0]\n",
            " [0 0 0 0 0 0 0 0 0 0 1 0]\n",
            " [0 0 0 0 0 0 0 0 0 0 0 1]\n",
            " [1 1 0 1 1 1 0 0 0 1 0 1]\n",
            " [1 0 1 1 1 0 0 0 1 0 1 1]\n",
            " [0 1 1 1 0 0 0 1 0 1 1 1]\n",
            " [1 1 1 0 0 0 1 0 1 1 0 1]\n",
            " [1 1 0 0 0 1 0 1 1 0 1 1]\n",
            " [1 0 0 0 1 0 1 1 0 1 1 1]\n",
            " [0 0 0 1 0 1 1 0 1 1 1 1]\n",
            " [0 0 1 0 1 1 0 1 1 1 0 1]\n",
            " [0 1 0 1 1 0 1 1 1 0 0 1]\n",
            " [1 0 1 1 0 1 1 1 0 0 0 1]\n",
            " [0 1 1 0 1 1 1 0 0 0 1 1]\n",
            " [1 1 1 1 1 1 1 1 1 1 1 0]]\n"
          ]
        }
      ]
    },
    {
      "cell_type": "code",
      "source": [
        "print(\"Отправляем сообщение (1, 0, 0, 1, 1, 0, 0, 0, 1, 0, 1, 0). Допустим однократную ошибку\\n\")\n",
        "u = np.array([1, 0, 0, 1, 1, 0, 0, 0, 1, 0, 1, 0])\n",
        "create_and_control_err(u, G, H, B, 1)"
      ],
      "metadata": {
        "colab": {
          "base_uri": "https://localhost:8080/"
        },
        "id": "YifZII9aC-CZ",
        "outputId": "1d715b9a-c61b-4ca7-e0cc-a5b24cfaf367"
      },
      "execution_count": null,
      "outputs": [
        {
          "output_type": "stream",
          "name": "stdout",
          "text": [
            "Отправляем сообщение (1, 0, 0, 1, 1, 0, 0, 0, 1, 0, 1, 0). Допустим однократную ошибку\n",
            "\n",
            "Исходное сообщение: [1 0 0 1 1 0 0 0 1 0 1 0]\n",
            "Отправленное сообщение [1 0 0 1 1 0 0 0 1 0 1 0 1 1 0 0 1 1 1 0 1 0 0 1]\n",
            "Допущенная ошибка: [0 0 0 0 0 0 0 1 0 0 0 0 0 0 0 0 0 0 0 0 0 0 0 0]\n",
            "Сообщение с ошибкой [1 0 0 1 1 0 0 1 1 0 1 0 1 1 0 0 1 1 1 0 1 0 0 1]\n",
            "Вызовем get_error, получаем ошибку: [0 0 0 0 0 0 0 1 0 0 0 0 0 0 0 0 0 0 0 0 0 0 0 0]\n",
            "Исправленное отправленное сообщение: [1 0 0 1 1 0 0 0 1 0 1 0 1 1 0 0 1 1 1 0 1 0 0 1]\n"
          ]
        }
      ]
    },
    {
      "cell_type": "code",
      "source": [
        "print(\"\\nДопустим двухкратную ошибку\\n\")\n",
        "create_and_control_err(u, G, H, B, 2)"
      ],
      "metadata": {
        "colab": {
          "base_uri": "https://localhost:8080/"
        },
        "id": "l9mJ8854C-AK",
        "outputId": "a4bad6fa-31c9-4a38-c817-f587eda01b1b"
      },
      "execution_count": null,
      "outputs": [
        {
          "output_type": "stream",
          "name": "stdout",
          "text": [
            "\n",
            "Допустим двухкратную ошибку\n",
            "\n",
            "Исходное сообщение: [1 0 0 1 1 0 0 0 1 0 1 0]\n",
            "Отправленное сообщение [1 0 0 1 1 0 0 0 1 0 1 0 1 1 0 0 1 1 1 0 1 0 0 1]\n",
            "Допущенная ошибка: [0 0 0 0 0 0 0 0 0 0 0 0 0 0 0 0 0 0 0 0 1 0 1 0]\n",
            "Сообщение с ошибкой [1 0 0 1 1 0 0 0 1 0 1 0 1 1 0 0 1 1 1 0 0 0 1 1]\n",
            "Вызовем get_error, получаем ошибку: [0 0 0 0 0 0 0 0 0 0 0 0 0 0 0 0 0 0 0 0 1 0 1 0]\n",
            "Исправленное отправленное сообщение: [1 0 0 1 1 0 0 0 1 0 1 0 1 1 0 0 1 1 1 0 1 0 0 1]\n"
          ]
        }
      ]
    },
    {
      "cell_type": "code",
      "source": [
        "print(\"\\nДопустим трехкратную ошибку\\n\")\n",
        "create_and_control_err(u, G, H, B, 3)"
      ],
      "metadata": {
        "colab": {
          "base_uri": "https://localhost:8080/"
        },
        "id": "De0d7X8iC99n",
        "outputId": "38577b49-f249-459b-b5a4-59de6d91ac64"
      },
      "execution_count": null,
      "outputs": [
        {
          "output_type": "stream",
          "name": "stdout",
          "text": [
            "\n",
            "Допустим трехкратную ошибку\n",
            "\n",
            "Исходное сообщение: [1 0 0 1 1 0 0 0 1 0 1 0]\n",
            "Отправленное сообщение [1 0 0 1 1 0 0 0 1 0 1 0 1 1 0 0 1 1 1 0 1 0 0 1]\n",
            "Допущенная ошибка: [0 0 0 0 1 0 0 0 0 0 0 0 0 0 0 0 0 0 0 0 0 0 1 1]\n",
            "Сообщение с ошибкой [1 0 0 1 0 0 0 0 1 0 1 0 1 1 0 0 1 1 1 0 1 0 1 0]\n",
            "Вызовем get_error, получаем ошибку: [0 0 0 0 1 0 0 0 0 0 0 0 0 0 0 0 0 0 0 0 0 0 1 1]\n",
            "Исправленное отправленное сообщение: [1 0 0 1 1 0 0 0 1 0 1 0 1 1 0 0 1 1 1 0 1 0 0 1]\n"
          ]
        }
      ]
    },
    {
      "cell_type": "code",
      "source": [
        "print(\"\\nДопустим четырехкратную ошибку\\n\")\n",
        "create_and_control_err(u, G, H, B, 4)"
      ],
      "metadata": {
        "colab": {
          "base_uri": "https://localhost:8080/"
        },
        "id": "-yH7VIrWC97J",
        "outputId": "93182473-aa13-498a-80d9-18e9f6678d93"
      },
      "execution_count": null,
      "outputs": [
        {
          "output_type": "stream",
          "name": "stdout",
          "text": [
            "\n",
            "Допустим четырехкратную ошибку\n",
            "\n",
            "Исходное сообщение: [1 0 0 1 1 0 0 0 1 0 1 0]\n",
            "Отправленное сообщение [1 0 0 1 1 0 0 0 1 0 1 0 1 1 0 0 1 1 1 0 1 0 0 1]\n",
            "Допущенная ошибка: [0 0 0 0 0 0 0 0 0 0 0 1 0 0 1 0 0 0 0 0 1 0 1 0]\n",
            "Сообщение с ошибкой [1 0 0 1 1 0 0 0 1 0 1 1 1 1 1 0 1 1 1 0 0 0 1 1]\n",
            "Вызовем get_error, получаем ошибку: None\n",
            "Ошибка обнаружена, исправить невозможно!\n"
          ]
        }
      ]
    },
    {
      "cell_type": "code",
      "source": [
        "print(\"Введена функция для формирования порождающей матрицы кода Рида-Маллера\\n\")\n",
        "print(\"Сформируем порождающую матрицу для RM(1, 3)\")\n",
        "G = read_muller_gen_matrix(1, 3)\n",
        "print(G)"
      ],
      "metadata": {
        "colab": {
          "base_uri": "https://localhost:8080/"
        },
        "id": "mzeVM9HTC94v",
        "outputId": "71cb9663-386b-4c36-d818-5c39634c6e9d"
      },
      "execution_count": null,
      "outputs": [
        {
          "output_type": "stream",
          "name": "stdout",
          "text": [
            "Введена функция для формирования порождающей матрицы кода Рида-Маллера\n",
            "\n",
            "Сформируем порождающую матрицу для RM(1, 3)\n",
            "[[1 1 1 1 1 1 1 1]\n",
            " [0 1 0 1 0 1 0 1]\n",
            " [0 0 1 1 0 0 1 1]\n",
            " [0 0 0 0 1 1 1 1]]\n"
          ]
        }
      ]
    },
    {
      "cell_type": "code",
      "source": [
        "def kronecker_product(A: np.ndarray, B: np.ndarray) -> np.ndarray:\n",
        "  \"\"\"\n",
        "  Вычисляет произведение Кронекера двух матриц.\n",
        "\n",
        "  Args:\n",
        "    A: Первая матрица.\n",
        "    B: Вторая матрица.\n",
        "\n",
        "  Returns:\n",
        "    Произведение Кронекера матриц A и B.\n",
        "  \"\"\"\n",
        "  # Получаем размеры матриц\n",
        "  rows_A, cols_A = A.shape\n",
        "  rows_B, cols_B = B.shape\n",
        "\n",
        "  # Инициализируем результирующую матрицу\n",
        "  result = np.zeros((rows_A * rows_B, cols_A * cols_B), dtype=A.dtype)\n",
        "\n",
        "  # Вычисляем произведение Кронекера\n",
        "  for i in range(rows_A):\n",
        "    for j in range(cols_A):\n",
        "      result[i*rows_B:(i+1)*rows_B, j*cols_B:(j+1)*cols_B] = A[i, j] * B\n",
        "\n",
        "  return result"
      ],
      "metadata": {
        "id": "90oLJ6fYC92d"
      },
      "execution_count": null,
      "outputs": []
    },
    {
      "cell_type": "code",
      "source": [
        "def H_matrix(H: np.ndarray, m: int, i: int) -> np.ndarray:\n",
        "  \"\"\"\n",
        "  Формирует матрицу H для проверки кода Рида-Маллера.\n",
        "\n",
        "  Args:\n",
        "    H: Матрица проверки для кода Рида-Маллера.\n",
        "    m: Количество информационных бит.\n",
        "    i: Индекс для формирования матрицы H.\n",
        "\n",
        "  Returns:\n",
        "    Матрица H для проверки кода Рида-Маллера.\n",
        "  \"\"\"\n",
        "  matrix = np.eye(2**(m - i), dtype=int)\n",
        "  matrix = kronecker_product(matrix, H)\n",
        "  matrix = kronecker_product(matrix, np.eye(2**(i - 1)))\n",
        "  return matrix"
      ],
      "metadata": {
        "id": "icx6GV1rC9z-"
      },
      "execution_count": null,
      "outputs": []
    },
    {
      "cell_type": "code",
      "source": [
        "def gen_and_check_error_RM(u: np.ndarray, G: np.ndarray, error_rate: int, m: int):\n",
        "  \"\"\"\n",
        "  Генерирует кодовое слово, добавляет ошибки и пытается исправить их.\n",
        "\n",
        "  Args:\n",
        "    u: Исходное сообщение.\n",
        "    G: Порождающая матрица кода Рида-Маллера.\n",
        "    error_rate: Количество ошибок, добавляемых в кодовое слово.\n",
        "    m: Количество информационных бит.\n",
        "  \"\"\"\n",
        "  print(\"Исходное сообщение:\", u)\n",
        "  w = u @ G % 2\n",
        "  print(\"Отправленное сообщение\", w)\n",
        "  error = np.zeros(w.shape[0], dtype=int)\n",
        "  error_indices = random.sample(range(w.shape[0]), error_rate)\n",
        "  for index in error_indices:\n",
        "    error[index] = 1\n",
        "  print(\"Допущенная ошибка:\", error)\n",
        "  w = (w + error) % 2\n",
        "  print(\"Сообщение с ошибкой\", w)\n",
        "  for i in range(len(w)):\n",
        "    if w[i] == 0:\n",
        "      w[i] = -1\n",
        "  w_array = []\n",
        "  H = np.array([[1, 1], [1, -1]])\n",
        "  w_array.append(w @ H_matrix(H, m, 1))\n",
        "  for i in range(2, m + 1):\n",
        "    w_array.append(w_array[-1] @ H_matrix(H, m, i))\n",
        "  maximum = w_array[0][0]\n",
        "  index = -1\n",
        "  for i in range(len(w_array)):\n",
        "    for j in range(len(w_array[i])):\n",
        "      if abs(w_array[i][j]) > abs(maximum):\n",
        "        index = j\n",
        "        maximum = w_array[i][j]\n",
        "  counter = 0\n",
        "  for i in range(len(w_array)):\n",
        "    for j in range(len(w_array[i])):\n",
        "      if abs(w_array[i][j]) == abs(maximum):\n",
        "        counter += 1\n",
        "      if (counter > 1):\n",
        "        print(\"Невозможно исправить ошибку!\")\n",
        "        return\n",
        "  message = list(map(int, list(('{' + f'0:0{m}b' + '}').format(index))))\n",
        "  if maximum > 0:\n",
        "    message.append(1)\n",
        "  else:\n",
        "    message.append(0)\n",
        "  print(\"Исправленное сообщение:\", np.array(message[::-1]))\n",
        "  if (not np.array_equal(u, message)):\n",
        "    print(\"Сообщение было декодировано с ошибкой!\")\n"
      ],
      "metadata": {
        "id": "1lVWHRV-C9x-"
      },
      "execution_count": null,
      "outputs": []
    },
    {
      "cell_type": "code",
      "source": [
        "# Допустим однократную ошибку\n",
        "m = 3\n",
        "u = np.array([1, 0, 0, 1])\n",
        "G = read_muller_gen_matrix(1, 3)\n",
        "gen_and_check_error_RM(u, G, 1, m)\n",
        "\n",
        "\n"
      ],
      "metadata": {
        "colab": {
          "base_uri": "https://localhost:8080/"
        },
        "id": "YPL_KDnFE_k3",
        "outputId": "be3edcd1-2aed-4cd6-c8ac-a370930e6284"
      },
      "execution_count": null,
      "outputs": [
        {
          "output_type": "stream",
          "name": "stdout",
          "text": [
            "Исходное сообщение: [1 0 0 1]\n",
            "Отправленное сообщение [1 1 1 1 0 0 0 0]\n",
            "Допущенная ошибка: [0 1 0 0 0 0 0 0]\n",
            "Сообщение с ошибкой [1 0 1 1 0 0 0 0]\n",
            "Исправленное сообщение: [1 0 0 1]\n"
          ]
        }
      ]
    },
    {
      "cell_type": "code",
      "source": [
        "# Допустим двухкратную ошибку\n",
        "gen_and_check_error_RM(u, G, 2, m)\n",
        "\n",
        "\n"
      ],
      "metadata": {
        "colab": {
          "base_uri": "https://localhost:8080/"
        },
        "id": "6v8s6qK3E_fY",
        "outputId": "160fb4e1-d0e8-42a5-a55a-ec6a6eb0093b"
      },
      "execution_count": null,
      "outputs": [
        {
          "output_type": "stream",
          "name": "stdout",
          "text": [
            "Исходное сообщение: [1 0 0 1]\n",
            "Отправленное сообщение [1 1 1 1 0 0 0 0]\n",
            "Допущенная ошибка: [1 0 1 0 0 0 0 0]\n",
            "Сообщение с ошибкой [0 1 0 1 0 0 0 0]\n",
            "Невозможно исправить ошибку!\n"
          ]
        }
      ]
    },
    {
      "cell_type": "code",
      "source": [
        "# Сформируем порождающую матрицу для RM(1, 4)\n",
        "G = read_muller_gen_matrix(1, 4)\n",
        "print(G)\n",
        "\n"
      ],
      "metadata": {
        "colab": {
          "base_uri": "https://localhost:8080/"
        },
        "id": "7riww1fzE_av",
        "outputId": "ccccea36-24e2-4aec-dbea-7a18fc3dc997"
      },
      "execution_count": null,
      "outputs": [
        {
          "output_type": "stream",
          "name": "stdout",
          "text": [
            "[[1 1 1 1 1 1 1 1 1 1 1 1 1 1 1 1]\n",
            " [0 1 0 1 0 1 0 1 0 1 0 1 0 1 0 1]\n",
            " [0 0 1 1 0 0 1 1 0 0 1 1 0 0 1 1]\n",
            " [0 0 0 0 1 1 1 1 0 0 0 0 1 1 1 1]\n",
            " [0 0 0 0 0 0 0 0 1 1 1 1 1 1 1 1]]\n"
          ]
        }
      ]
    },
    {
      "cell_type": "code",
      "source": [
        "# Допустим однократную ошибку\n",
        "m = 4\n",
        "u = np.array([1, 0, 1, 0, 1])\n",
        "gen_and_check_error_RM(u, G, 1, m)\n",
        "\n"
      ],
      "metadata": {
        "colab": {
          "base_uri": "https://localhost:8080/"
        },
        "id": "3wZlVAzwE_XZ",
        "outputId": "4cc2a925-47d7-4dbd-b80a-2235a8ae6bde"
      },
      "execution_count": null,
      "outputs": [
        {
          "output_type": "stream",
          "name": "stdout",
          "text": [
            "Исходное сообщение: [1 0 1 0 1]\n",
            "Отправленное сообщение [1 1 0 0 1 1 0 0 0 0 1 1 0 0 1 1]\n",
            "Допущенная ошибка: [0 0 0 0 0 0 0 0 0 0 0 0 0 0 0 1]\n",
            "Сообщение с ошибкой [1 1 0 0 1 1 0 0 0 0 1 1 0 0 1 0]\n",
            "Исправленное сообщение: [1 0 1 0 1]\n"
          ]
        }
      ]
    },
    {
      "cell_type": "code",
      "source": [
        "# Допустим двухкратную ошибку\n",
        "gen_and_check_error_RM(u, G, 2, m)\n",
        "\n"
      ],
      "metadata": {
        "colab": {
          "base_uri": "https://localhost:8080/"
        },
        "id": "S1cXd8DSE_Uf",
        "outputId": "20e691de-9108-4fe3-ee66-42dc3486978b"
      },
      "execution_count": null,
      "outputs": [
        {
          "output_type": "stream",
          "name": "stdout",
          "text": [
            "Исходное сообщение: [1 0 1 0 1]\n",
            "Отправленное сообщение [1 1 0 0 1 1 0 0 0 0 1 1 0 0 1 1]\n",
            "Допущенная ошибка: [0 0 0 0 0 0 0 1 0 0 0 0 1 0 0 0]\n",
            "Сообщение с ошибкой [1 1 0 0 1 1 0 1 0 0 1 1 1 0 1 1]\n",
            "Исправленное сообщение: [1 0 1 0 1]\n"
          ]
        }
      ]
    },
    {
      "cell_type": "code",
      "source": [
        "# Допустим трехкратную ошибку\n",
        "gen_and_check_error_RM(u, G, 3, m)\n"
      ],
      "metadata": {
        "colab": {
          "base_uri": "https://localhost:8080/"
        },
        "id": "LltBEGXvE_Qd",
        "outputId": "e05202f5-e44d-4f35-9295-8ad0a3657cf4"
      },
      "execution_count": null,
      "outputs": [
        {
          "output_type": "stream",
          "name": "stdout",
          "text": [
            "Исходное сообщение: [1 0 1 0 1]\n",
            "Отправленное сообщение [1 1 0 0 1 1 0 0 0 0 1 1 0 0 1 1]\n",
            "Допущенная ошибка: [0 0 0 1 0 0 0 1 0 0 0 1 0 0 0 0]\n",
            "Сообщение с ошибкой [1 1 0 1 1 1 0 1 0 0 1 0 0 0 1 1]\n",
            "Исправленное сообщение: [1 0 1 0 1]\n"
          ]
        }
      ]
    },
    {
      "cell_type": "code",
      "source": [
        "# Допустим четырехкратную ошибку\n",
        "gen_and_check_error_RM(u, G, 4, m)"
      ],
      "metadata": {
        "colab": {
          "base_uri": "https://localhost:8080/"
        },
        "id": "3r7f8DcpC9ur",
        "outputId": "531e58ed-e150-498f-dc8e-96c4c0aa38a2"
      },
      "execution_count": null,
      "outputs": [
        {
          "output_type": "stream",
          "name": "stdout",
          "text": [
            "Исходное сообщение: [1 0 1 0 1]\n",
            "Отправленное сообщение [1 1 0 0 1 1 0 0 0 0 1 1 0 0 1 1]\n",
            "Допущенная ошибка: [0 0 0 1 0 1 0 0 1 0 0 0 1 0 0 0]\n",
            "Сообщение с ошибкой [1 1 0 1 1 0 0 0 1 0 1 1 1 0 1 1]\n",
            "Невозможно исправить ошибку!\n"
          ]
        }
      ]
    }
  ]
}