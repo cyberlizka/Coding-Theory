{
  "nbformat": 4,
  "nbformat_minor": 0,
  "metadata": {
    "colab": {
      "provenance": []
    },
    "kernelspec": {
      "name": "python3",
      "display_name": "Python 3"
    },
    "language_info": {
      "name": "python"
    }
  },
  "cells": [
    {
      "cell_type": "markdown",
      "source": [
        "# **6.1**"
      ],
      "metadata": {
        "id": "VzNeG1jRKqTu"
      }
    },
    {
      "cell_type": "code",
      "execution_count": 45,
      "metadata": {
        "id": "jbV-O4yBAcjG"
      },
      "outputs": [],
      "source": [
        "import numpy as np\n",
        "import random"
      ]
    },
    {
      "cell_type": "code",
      "source": [
        "\n",
        "def remainder_of_polynomial_division(dividend, divisor):\n",
        "    \"\"\"\n",
        "    Вычисляет остаток от деления многочлена (делимого) на многочлен (делитель)\n",
        "    с использованием алгоритма побитового исключающего ИЛИ (XOR).\n",
        "\n",
        "    Параметры:\n",
        "\n",
        "    dividend :\n",
        "        Массив, представляющий коэффициенты делимого многочлена,\n",
        "        где индекс соответствует степени (от старшей к младшей).\n",
        "\n",
        "    divisor :\n",
        "        Массив, представляющий коэффициенты делителя многочлена,\n",
        "        где индекс соответствует степени (от старшей к младшей).\n",
        "        Должен быть ненулевым и иметь степень меньше или равную степени делимого.\n",
        "\n",
        "    Возвращает:\n",
        "\n",
        "    np.array\n",
        "        Массив, представляющий остаток от деления,\n",
        "        где индекс соответствует степени (от старшей к младшей).\n",
        "        Если остаток равен нулю, возвращается пустой массив.\n",
        "    \"\"\"\n",
        "    # Создаем копию делимого для проведения модификаций\n",
        "    current_remainder = list(dividend)\n",
        "\n",
        "    # Получаем длину делителя\n",
        "    divisor_length = len(divisor)\n",
        "\n",
        "    # Продолжаем деление, пока степень остатка не станет меньше степени делителя\n",
        "    while len(current_remainder) >= divisor_length:\n",
        "        # Рассчитываем сдвиг для выравнивания делителя с текущим остатком\n",
        "        shift_position = len(current_remainder) - divisor_length\n",
        "\n",
        "        # Применяем побитовое исключающее ИЛИ (XOR) между делителем, сдвинутым на shift_position позиций, и остатком\n",
        "        for i in range(divisor_length):\n",
        "            current_remainder[shift_position + i] ^= divisor[i]\n",
        "\n",
        "        # Удаляем нули в конце остатка для уменьшения его степени\n",
        "        while current_remainder and current_remainder[-1] == 0:\n",
        "            current_remainder.pop()\n",
        "\n",
        "    return np.array(current_remainder)"
      ],
      "metadata": {
        "id": "EpU8oBZGHJKt"
      },
      "execution_count": 46,
      "outputs": []
    },
    {
      "cell_type": "code",
      "source": [
        "def multiply_polynomials(A, B):\n",
        "    \"\"\"\n",
        "    Умножает два многочлена, представленных в виде списков коэффициентов,\n",
        "    используя побитовое исключающее ИЛИ (XOR) для сложения коэффициентов.\n",
        "\n",
        "    Аргументы:\n",
        "    A : np.array\n",
        "        Список коэффициентов первого многочлена, где индекс соответствует степени\n",
        "        переменной.\n",
        "\n",
        "    B : np.array\n",
        "        Список коэффициентов второго многочлена, где индекс соответствует степени\n",
        "        переменной.\n",
        "\n",
        "    Возвращает:\n",
        "    np.array\n",
        "        Список коэффициентов произведения двух многочленов. Длина результата равна\n",
        "        сумме степеней множителей минус один.\n",
        "    \"\"\"\n",
        "    length_a = len(A)  # Длина первого многочлена\n",
        "    length_b = len(B)  # Длина второго многочлена\n",
        "\n",
        "    # Инициализация массива для хранения результата произведения\n",
        "    product_result = np.zeros(length_a + length_b - 1, dtype=int)\n",
        "\n",
        "    # Проходим по каждому коэффициенту второго многочлена\n",
        "    for index in range(length_b):\n",
        "        if B[index] != 0:  # Проверяем, не равен ли коэффициент нулю\n",
        "            # Умножаем текущий коэффициент B на весь многочлен A\n",
        "            # Сдвигаем результат на 'index' позиций вправо\n",
        "            product_result[index:index + length_a] ^= A.astype(int)\n",
        "\n",
        "    return product_result"
      ],
      "metadata": {
        "id": "Yt-nVjtsHMl-"
      },
      "execution_count": 47,
      "outputs": []
    },
    {
      "cell_type": "code",
      "source": [
        "\n",
        "def generate_and_correct_error(a, g, error_rate):\n",
        "    \"\"\"\n",
        "    Генерирует сообщение с ошибками, исправляет их и проверяет, удалось ли восстановить исходное сообщение.\n",
        "\n",
        "    Параметры:\n",
        "    a (list): Список коэффициентов исходного сообщения, представленного в виде многочлена.\n",
        "\n",
        "    g (list): Список коэффициентов порождающего полинома, который используется для кодирования.\n",
        "\n",
        "    error_rate (int): Частота ошибок, которую нужно сгенерировать.\n",
        "                      1 - одна ошибка, 2 - две ошибки, любое другое значение - указанное количество ошибок.\n",
        "\n",
        "    Возвращает:\n",
        "    None: Функция выводит на экран информацию о процессе генерации и исправления ошибок,\n",
        "          но не возвращает никаких значений.\n",
        "    \"\"\"\n",
        "    print(\"Исходное сообщение:      \", a)\n",
        "    print(\"Порождающий полином:     \", g)\n",
        "\n",
        "    # Умножаем исходное сообщение на порождающий полином для получения отправленного сообщения\n",
        "    v = multiply_polynomials(a, g)\n",
        "    print(\"Отправленное сообщение:  \", v)\n",
        "\n",
        "    # Копируем отправленное сообщение для внесения ошибок\n",
        "    w = v.copy()\n",
        "    error = np.zeros(len(w), dtype=int)  # Инициализируем массив для ошибок\n",
        "\n",
        "    # Генерация ошибок в зависимости от заданной частоты\n",
        "    if error_rate == 1:\n",
        "        index = random.randint(0, len(w) - 1)  # Генерируем случайный индекс для одной ошибки\n",
        "        error[index] = 1\n",
        "    elif error_rate == 2:\n",
        "        index1 = random.randint(0, len(w) - 2)  # Генерируем первый индекс для двух ошибок\n",
        "        index2 = index1 + random.choice([1, 2])  # Генерируем второй индекс, чтобы он не совпадал с первым\n",
        "        error[index1] = 1\n",
        "        error[index2] = 1\n",
        "    else:\n",
        "        # Генерируем случайные индексы для указанного количества ошибок\n",
        "        error_indices = random.sample(range(len(w)), error_rate)\n",
        "        for index in error_indices:\n",
        "            error[index] = 1\n",
        "\n",
        "    # Вносим ошибки в сообщение\n",
        "    w = (w + error) % 2\n",
        "    print(\"Сообщение с ошибкой:     \", w)\n",
        "\n",
        "    # Вычисляем остаток от деления с использованием порождающего полинома\n",
        "    s = remainder_of_polynomial_division(w, g)\n",
        "\n",
        "    # Определяем шаблоны ошибок в зависимости от частоты ошибок\n",
        "    error_patterns = [[1]] if error_rate == 1 else [[1, 1, 1], [1, 0, 1], [1, 1], [1]]\n",
        "\n",
        "    idx = 0\n",
        "    found = False\n",
        "\n",
        "    # Поиск соответствия остатков с шаблонами ошибок\n",
        "    while not found:\n",
        "        for pattern in error_patterns:\n",
        "            if np.array_equal(s, pattern):  # Проверяем, совпадает ли остаток с шаблоном\n",
        "                found = True\n",
        "                break\n",
        "        if not found:\n",
        "            # Если совпадений не найдено, сдвигаем остаток и увеличиваем индекс\n",
        "            s = remainder_of_polynomial_division(multiply_polynomials(s, np.array([0, 1])), g)\n",
        "            idx += 1\n",
        "\n",
        "    # Создаем временный массив для исправления ошибок\n",
        "    temp = np.zeros(len(w), dtype=int)\n",
        "    if idx == 0:\n",
        "        temp[0] = 1  # Устанавливаем первый элемент, если idx == 0\n",
        "    else:\n",
        "        temp[len(temp) - idx - 1] = 1  # Устанавливаем элемент с учетом индекса\n",
        "\n",
        "    # Умножаем остаток на временный массив для получения исправления\n",
        "    e = multiply_polynomials(s, temp)[:len(w)]\n",
        "    message = (w + e) % 2  # Исправляем сообщение\n",
        "    print(\"Исправленное сообщение:  \", message)\n",
        "\n",
        "    # Проверяем, удалось ли восстановить исходное сообщение\n",
        "    if np.array_equal(v, message):\n",
        "        print(\"Ошибка исправлена успешно\")\n",
        "    else:\n",
        "        print(\"Ошибка исправлена неудачно\")"
      ],
      "metadata": {
        "id": "F48PEMC5A0IP"
      },
      "execution_count": 48,
      "outputs": []
    },
    {
      "cell_type": "code",
      "source": [
        "# Введем входное сообщение a и порождающий полином g = 1 + x^2 + x^3\n",
        "a = np.array([1, 0, 0 ,1])\n",
        "g = np.array([1, 0, 1, 1])"
      ],
      "metadata": {
        "id": "i0MsZ98SKcwk"
      },
      "execution_count": 49,
      "outputs": []
    },
    {
      "cell_type": "code",
      "source": [
        "generate_and_correct_error(a, g, 1) # исследование для однократной ошибки"
      ],
      "metadata": {
        "colab": {
          "base_uri": "https://localhost:8080/"
        },
        "id": "iFOL44MkA0GU",
        "outputId": "2dbc398f-d39d-43f2-b9ca-4f04bd5ab18b"
      },
      "execution_count": 50,
      "outputs": [
        {
          "output_type": "stream",
          "name": "stdout",
          "text": [
            "Исходное сообщение:       [1 0 0 1]\n",
            "Порождающий полином:      [1 0 1 1]\n",
            "Отправленное сообщение:   [1 0 1 0 0 1 1]\n",
            "Сообщение с ошибкой:      [1 0 0 0 0 1 1]\n",
            "Исправленное сообщение:   [1 1 0 0 0 1 1]\n",
            "Ошибка исправлена неудачно\n"
          ]
        }
      ]
    },
    {
      "cell_type": "code",
      "source": [
        "generate_and_correct_error(a, g, 2) # исследование для двухкратной ошибки"
      ],
      "metadata": {
        "colab": {
          "base_uri": "https://localhost:8080/"
        },
        "id": "z1h6awUHA0D0",
        "outputId": "e2aa4566-b500-4e37-cea7-3a6ea763c5fd"
      },
      "execution_count": 51,
      "outputs": [
        {
          "output_type": "stream",
          "name": "stdout",
          "text": [
            "Исходное сообщение:       [1 0 0 1]\n",
            "Порождающий полином:      [1 0 1 1]\n",
            "Отправленное сообщение:   [1 0 1 0 0 1 1]\n",
            "Сообщение с ошибкой:      [1 1 0 0 0 1 1]\n",
            "Исправленное сообщение:   [1 1 0 0 0 0 1]\n",
            "Ошибка исправлена неудачно\n"
          ]
        }
      ]
    },
    {
      "cell_type": "code",
      "source": [
        "generate_and_correct_error(a, g, 3) # исследование для трехкратной ошибки"
      ],
      "metadata": {
        "colab": {
          "base_uri": "https://localhost:8080/"
        },
        "id": "wiWlJwtVBwkY",
        "outputId": "959086be-b70a-44a8-8a29-f596fa324005"
      },
      "execution_count": 52,
      "outputs": [
        {
          "output_type": "stream",
          "name": "stdout",
          "text": [
            "Исходное сообщение:       [1 0 0 1]\n",
            "Порождающий полином:      [1 0 1 1]\n",
            "Отправленное сообщение:   [1 0 1 0 0 1 1]\n",
            "Сообщение с ошибкой:      [0 0 0 0 0 1 0]\n",
            "Исправленное сообщение:   [1 1 0 0 0 1 0]\n",
            "Ошибка исправлена неудачно\n"
          ]
        }
      ]
    },
    {
      "cell_type": "markdown",
      "source": [
        "# **6.2**"
      ],
      "metadata": {
        "id": "lkC8gihlLZ0d"
      }
    },
    {
      "cell_type": "code",
      "source": [
        "# Введем новые входное сообщение a и порождающий полином g = 1 + x^3 + x^4 + x^5 + x^6\n",
        "a = np.array([1, 0, 0, 1, 0, 0, 0, 1, 1])\n",
        "g = np.array([1, 0, 0, 1, 1, 1, 1])"
      ],
      "metadata": {
        "id": "KVFRWp2lGGPr"
      },
      "execution_count": 53,
      "outputs": []
    },
    {
      "cell_type": "code",
      "source": [
        "generate_and_correct_error(a, g, 1) # исследование для однократной ошибки"
      ],
      "metadata": {
        "colab": {
          "base_uri": "https://localhost:8080/"
        },
        "id": "sdxbv_KoGNbd",
        "outputId": "64590223-ea47-48eb-ca46-f2aef096282f"
      },
      "execution_count": 54,
      "outputs": [
        {
          "output_type": "stream",
          "name": "stdout",
          "text": [
            "Исходное сообщение:       [1 0 0 1 0 0 0 1 1]\n",
            "Порождающий полином:      [1 0 0 1 1 1 1]\n",
            "Отправленное сообщение:   [1 0 0 0 1 1 0 0 0 1 1 0 0 0 1]\n",
            "Сообщение с ошибкой:      [1 0 0 0 1 1 0 0 0 1 1 0 1 0 1]\n",
            "Исправленное сообщение:   [1 0 0 0 1 1 0 0 0 1 1 1 1 0 1]\n",
            "Ошибка исправлена неудачно\n"
          ]
        }
      ]
    },
    {
      "cell_type": "code",
      "source": [
        "generate_and_correct_error(a, g, 2) # исследование для двухкратной ошибки"
      ],
      "metadata": {
        "colab": {
          "base_uri": "https://localhost:8080/"
        },
        "id": "74SYKbVRGNYH",
        "outputId": "23e4a175-de5d-4423-e33f-027efd63f075"
      },
      "execution_count": 55,
      "outputs": [
        {
          "output_type": "stream",
          "name": "stdout",
          "text": [
            "Исходное сообщение:       [1 0 0 1 0 0 0 1 1]\n",
            "Порождающий полином:      [1 0 0 1 1 1 1]\n",
            "Отправленное сообщение:   [1 0 0 0 1 1 0 0 0 1 1 0 0 0 1]\n",
            "Сообщение с ошибкой:      [1 0 0 0 1 1 0 0 1 1 0 0 0 0 1]\n",
            "Исправленное сообщение:   [1 0 0 0 1 1 0 1 1 0 0 0 0 0 1]\n",
            "Ошибка исправлена неудачно\n"
          ]
        }
      ]
    },
    {
      "cell_type": "code",
      "source": [
        "generate_and_correct_error(a, g, 3) # исследование для трехкратной ошибки"
      ],
      "metadata": {
        "colab": {
          "base_uri": "https://localhost:8080/"
        },
        "id": "_pXiUGqAGNUK",
        "outputId": "17d2ec8e-f1fe-4add-b850-44fec907da19"
      },
      "execution_count": 56,
      "outputs": [
        {
          "output_type": "stream",
          "name": "stdout",
          "text": [
            "Исходное сообщение:       [1 0 0 1 0 0 0 1 1]\n",
            "Порождающий полином:      [1 0 0 1 1 1 1]\n",
            "Отправленное сообщение:   [1 0 0 0 1 1 0 0 0 1 1 0 0 0 1]\n",
            "Сообщение с ошибкой:      [1 0 0 0 1 1 0 0 1 1 1 1 0 1 1]\n",
            "Исправленное сообщение:   [1 0 0 0 1 1 0 0 1 1 1 0 0 0 1]\n",
            "Ошибка исправлена неудачно\n"
          ]
        }
      ]
    },
    {
      "cell_type": "code",
      "source": [
        "generate_and_correct_error(a, g, 4) # исследование для четырехкратной ошибки"
      ],
      "metadata": {
        "colab": {
          "base_uri": "https://localhost:8080/"
        },
        "id": "GkeU5ubQGNPv",
        "outputId": "42a875ee-2c8f-4c44-bf96-c1e641ceac4c"
      },
      "execution_count": 57,
      "outputs": [
        {
          "output_type": "stream",
          "name": "stdout",
          "text": [
            "Исходное сообщение:       [1 0 0 1 0 0 0 1 1]\n",
            "Порождающий полином:      [1 0 0 1 1 1 1]\n",
            "Отправленное сообщение:   [1 0 0 0 1 1 0 0 0 1 1 0 0 0 1]\n",
            "Сообщение с ошибкой:      [1 0 1 0 1 1 1 0 0 1 1 0 1 1 1]\n",
            "Исправленное сообщение:   [1 0 1 0 1 1 1 0 1 1 1 0 1 1 1]\n",
            "Ошибка исправлена неудачно\n"
          ]
        }
      ]
    }
  ]
}