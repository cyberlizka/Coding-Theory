{
  "nbformat": 4,
  "nbformat_minor": 0,
  "metadata": {
    "colab": {
      "provenance": []
    },
    "kernelspec": {
      "name": "python3",
      "display_name": "Python 3"
    },
    "language_info": {
      "name": "python"
    }
  },
  "cells": [
    {
      "cell_type": "markdown",
      "source": [
        "# **5.1**"
      ],
      "metadata": {
        "id": "mjQ_5QVsrgr-"
      }
    },
    {
      "cell_type": "code",
      "source": [
        "from itertools import combinations\n",
        "from functools import cmp_to_key\n",
        "import numpy as np\n",
        "from itertools import combinations, product"
      ],
      "metadata": {
        "id": "sPhOHO3FckKS"
      },
      "execution_count": 83,
      "outputs": []
    },
    {
      "cell_type": "code",
      "source": [
        "def _generate_matrix_row(bit_reversed_vectors, subset_indices):\n",
        "    \"\"\"\n",
        "    Генерирует строку матрицы на основе битовых векторов и заданного подмножества индексов.\n",
        "\n",
        "    :param bit_reversed_vectors: Список битовых векторов, представленных в обратном порядке.\n",
        "    :param subset_indices: Индексы, которые определяют подмножество элементов для вычисления.\n",
        "    :return: Список, представляющий строку матрицы, где каждый элемент вычисляется как\n",
        "             произведение элементов вектора, соответствующих заданным индексам, по модулю 2.\n",
        "    \"\"\"\n",
        "    row = [(np.prod([(x + 1) for i, x in enumerate(vector) if i in subset_indices]) % 2) for vector in bit_reversed_vectors]\n",
        "    return row\n"
      ],
      "metadata": {
        "id": "Yq-odF6SckGW"
      },
      "execution_count": 84,
      "outputs": []
    },
    {
      "cell_type": "code",
      "source": [
        "def _compare_rows(row_a, row_b):\n",
        "    \"\"\"\n",
        "    Функция сравнения для сортировки строк на основе старшего отличающегося бита.\n",
        "\n",
        "    :param row_a: Первая строка для сравнения (список или массив).\n",
        "    :param row_b: Вторая строка для сравнения (список или массив).\n",
        "    :return:\n",
        "        - Положительное значение, если старший отличающийся бит в row_a больше, чем в row_b.\n",
        "        - Отрицательное значение, если старший отличающийся бит в row_a меньше, чем в row_b.\n",
        "        - 0, если строки равны (все биты совпадают).\n",
        "    \"\"\"\n",
        "    for i in range(len(row_a) - 1, -1, -1):\n",
        "        if row_a[i] != row_b[i]:\n",
        "            return row_a[i] - row_b[i]\n",
        "    return 0\n"
      ],
      "metadata": {
        "id": "X8azH23dckCO"
      },
      "execution_count": 85,
      "outputs": []
    },
    {
      "cell_type": "code",
      "source": [
        "def _sort_matrix_rows(matrix, subset_counts):\n",
        "    \"\"\"\n",
        "    Сортирует строки матрицы в каждой группе подмножеств.\n",
        "\n",
        "    :param matrix: Исходная матрица, строки которой необходимо отсортировать (двумерный массив или список).\n",
        "    :param subset_counts: Список, содержащий количество строк в каждой группе подмножеств.\n",
        "    :return: Новая матрица, в которой строки отсортированы в каждой группе подмножеств\n",
        "             на основе старшего отличающегося бита.\n",
        "    \"\"\"\n",
        "    sorted_matrix = []\n",
        "    start_index = 0\n",
        "    for count in subset_counts:\n",
        "        end_index = start_index + count\n",
        "        subset_rows = list(matrix[start_index:end_index])\n",
        "        subset_rows.sort(key=cmp_to_key(_compare_rows))\n",
        "        sorted_matrix.extend(subset_rows)\n",
        "        start_index = end_index\n",
        "    return np.array(sorted_matrix, dtype=int)\n"
      ],
      "metadata": {
        "id": "bwrAYalIeWYz"
      },
      "execution_count": 86,
      "outputs": []
    },
    {
      "cell_type": "code",
      "source": [
        "def generate_reed_muller_matrix(r, m):\n",
        "    \"\"\"\n",
        "    Генерирует порождающую матрицу Рида-Маллера порядка r и длины m.\n",
        "\n",
        "    :param r: Порядок кода Рида-Маллера, определяющий количество исправляемых ошибок.\n",
        "    :param m: Длина кодового слова, определяющая размерность матрицы.\n",
        "    :return: Порождающая матрица Рида-Маллера в виде двумерного массива (numpy array).\n",
        "\n",
        "    Эта функция создает порождающую матрицу для кода Рида-Маллера, используя битовые векторы,\n",
        "    формируя все возможные подмножества индексов и генерируя строки матрицы на основе этих подмножеств.\n",
        "    Строки матрицы сортируются по старшему отличающемуся биту для упрощения дальнейшей обработки.\n",
        "    \"\"\"\n",
        "    bit_reversed_vectors = [list(map(int, f\"{i:0{m}b}\"[::-1])) for i in range(2**m)]\n",
        "\n",
        "    all_subsets = []\n",
        "    subset_lengths = []\n",
        "    for i in range(r + 1):\n",
        "        subsets = list(combinations(range(m), i))\n",
        "        all_subsets.extend(subsets)\n",
        "        subset_lengths.append(len(subsets))\n",
        "\n",
        "    matrix = np.array([_generate_matrix_row(bit_reversed_vectors, subset) for subset in all_subsets], dtype=int)\n",
        "\n",
        "    return _sort_matrix_rows(matrix, subset_lengths)\n"
      ],
      "metadata": {
        "id": "kLvmFhh1cj_m"
      },
      "execution_count": 87,
      "outputs": []
    },
    {
      "cell_type": "code",
      "source": [
        "r, m = 2, 4\n",
        "G = generate_reed_muller_matrix(r, m)\n",
        "print(G)"
      ],
      "metadata": {
        "colab": {
          "base_uri": "https://localhost:8080/"
        },
        "id": "wYIwka2Wcj9O",
        "outputId": "26ddf9bd-651b-4f83-efb7-60ec5657367f"
      },
      "execution_count": 88,
      "outputs": [
        {
          "output_type": "stream",
          "name": "stdout",
          "text": [
            "[[1 1 1 1 1 1 1 1 1 1 1 1 1 1 1 1]\n",
            " [1 1 1 1 1 1 1 1 0 0 0 0 0 0 0 0]\n",
            " [1 1 1 1 0 0 0 0 1 1 1 1 0 0 0 0]\n",
            " [1 1 0 0 1 1 0 0 1 1 0 0 1 1 0 0]\n",
            " [1 0 1 0 1 0 1 0 1 0 1 0 1 0 1 0]\n",
            " [1 1 1 1 0 0 0 0 0 0 0 0 0 0 0 0]\n",
            " [1 1 0 0 1 1 0 0 0 0 0 0 0 0 0 0]\n",
            " [1 0 1 0 1 0 1 0 0 0 0 0 0 0 0 0]\n",
            " [1 1 0 0 0 0 0 0 1 1 0 0 0 0 0 0]\n",
            " [1 0 1 0 0 0 0 0 1 0 1 0 0 0 0 0]\n",
            " [1 0 0 0 1 0 0 0 1 0 0 0 1 0 0 0]]\n"
          ]
        }
      ]
    },
    {
      "cell_type": "markdown",
      "source": [
        "# **5.2**"
      ],
      "metadata": {
        "id": "_AGjjZq2gP5s"
      }
    },
    {
      "cell_type": "code",
      "source": [
        "def sort_indices_for_majority(m, r):\n",
        "    \"\"\"\n",
        "    Сортирует индексы для мажоритарного декодирования.\n",
        "\n",
        "    :param m: Общее количество индексов.\n",
        "    :param r: Размер подмножества для мажоритарного декодирования.\n",
        "    :return: Массив отсортированных комбинаций индексов.\n",
        "    \"\"\"\n",
        "    indices = range(m)\n",
        "    comb_list = list(combinations(indices, r))\n",
        "\n",
        "    if comb_list:\n",
        "        comb_list.sort(key=lambda x: len(x))\n",
        "\n",
        "    return np.array(comb_list, dtype=int)"
      ],
      "metadata": {
        "id": "1xa0rcPJ3tp_"
      },
      "execution_count": 89,
      "outputs": []
    },
    {
      "cell_type": "code",
      "source": [
        "def calculate_f_value(vector, subset):\n",
        "    \"\"\"\n",
        "    Вычисляет значение функции f для заданного вектора и подмножества индексов.\n",
        "\n",
        "    :param vector: Входной бинарный вектор.\n",
        "    :param subset: Подмножество индексов для вычисления.\n",
        "    :return: Значение функции f.\n",
        "    \"\"\"\n",
        "    return np.prod([(vector[index] + 1) % 2 for index in subset])"
      ],
      "metadata": {
        "id": "dse-OIIS3tme"
      },
      "execution_count": 90,
      "outputs": []
    },
    {
      "cell_type": "code",
      "source": [
        "def create_binary_matrix(cols):\n",
        "    \"\"\"\n",
        "    Генерирует бинарную матрицу с заданным количеством столбцов.\n",
        "\n",
        "    :param cols: Количество столбцов в бинарной матрице.\n",
        "    :return: Список всех возможных бинарных векторов длины cols.\n",
        "    \"\"\"\n",
        "    return list(product([0, 1], repeat=cols))"
      ],
      "metadata": {
        "id": "6XzdQiSp3tj-"
      },
      "execution_count": 91,
      "outputs": []
    },
    {
      "cell_type": "code",
      "source": [
        "def construct_vector_V(subset, num_cols):\n",
        "    \"\"\"\n",
        "    Формирует вектор V_I на основе заданного подмножества индексов.\n",
        "\n",
        "    :param subset: Подмножество индексов.\n",
        "    :param num_cols: Общее количество столбцов.\n",
        "    :return: Вектор V_I.\n",
        "    \"\"\"\n",
        "    if len(subset) == 0:\n",
        "        return np.ones(2 ** num_cols, int)\n",
        "    else:\n",
        "        v_vector = []\n",
        "        for binary_vector in create_binary_matrix(num_cols):\n",
        "            f_value = calculate_f_value(binary_vector, subset)\n",
        "            v_vector.append(f_value)\n",
        "        return v_vector"
      ],
      "metadata": {
        "id": "ZgWIRoyL3thl"
      },
      "execution_count": 92,
      "outputs": []
    },
    {
      "cell_type": "code",
      "source": [
        "def construct_vector_H(I, m):\n",
        "    \"\"\"\n",
        "    Формирует вектор H для заданного подмножества индексов.\n",
        "\n",
        "    :param I: Подмножество индексов.\n",
        "    :param m: Общее количество индексов.\n",
        "    :return: Список бинарных векторов, соответствующих подмножеству I.\n",
        "    \"\"\"\n",
        "    return [word for word in create_binary_matrix(m) if calculate_f_value(word, I) == 1]"
      ],
      "metadata": {
        "id": "0AZBrTfm3te3"
      },
      "execution_count": 93,
      "outputs": []
    },
    {
      "cell_type": "code",
      "source": [
        "def find_complement(I, m):\n",
        "    \"\"\"\n",
        "    Формирует комплиментарное множество для заданного подмножества.\n",
        "\n",
        "    :param I: Подмножество индексов.\n",
        "    :param m: Общее количество индексов.\n",
        "    :return: Комплиментарное множество индексов.\n",
        "    \"\"\"\n",
        "    return [i for i in range(m) if i not in I]"
      ],
      "metadata": {
        "id": "V6hkahA_3tcJ"
      },
      "execution_count": 94,
      "outputs": []
    },
    {
      "cell_type": "code",
      "source": [
        "def calculate_f_t_value(words, I, t):\n",
        "    \"\"\"\n",
        "    Вычисляет значение функции f_t для заданных слов и подмножества индексов.\n",
        "\n",
        "    :param words: Список бинарных слов.\n",
        "    :param I: Подмножество индексов.\n",
        "    :param t: Бинарный вектор, используемый для вычисления.\n",
        "    :return: Значение функции f_t.\n",
        "    \"\"\"\n",
        "    return np.prod([(words[j] + t[j] + 1) % 2 for j in I])"
      ],
      "metadata": {
        "id": "3Qe76HHd3tZd"
      },
      "execution_count": 95,
      "outputs": []
    },
    {
      "cell_type": "code",
      "source": [
        "def construct_V_I_t(I, m, t):\n",
        "    \"\"\"\n",
        "    Формирует вектор V_I_t на основе подмножества индексов и вектора t.\n",
        "\n",
        "    :param I: Подмножество индексов.\n",
        "    :param m: Общее количество индексов.\n",
        "    :param t: Бинарный вектор, используемый для вычисления.\n",
        "    :return: Вектор V_I_t.\n",
        "    \"\"\"\n",
        "    if not I:\n",
        "        return np.ones(2 ** m, dtype=int)\n",
        "    return [calculate_f_t_value(word, I, t) for word in create_binary_matrix(m)]"
      ],
      "metadata": {
        "id": "2WGmQ1C64AYf"
      },
      "execution_count": 96,
      "outputs": []
    },
    {
      "cell_type": "code",
      "source": [
        "def majority_decoding_algorithm(w, r, m, size):\n",
        "    \"\"\"\n",
        "    Выполняет мажоритарное декодирование для исправления ошибок в бинарном коде.\n",
        "\n",
        "    :param w: Входное бинарное слово с ошибками, которое необходимо декодировать.\n",
        "    :param r: Максимальное количество ошибок, которые могут быть исправлены.\n",
        "    :param m: Общее количество индексов (длина кодового слова).\n",
        "    :param size: Размер массива Mi, который будет содержать результаты декодирования.\n",
        "    :return: Массив Mi, содержащий исправленное слово, или None, если декодирование не удалось.\n",
        "    \"\"\"\n",
        "    w_r = w.copy()\n",
        "    Mi = np.zeros(size, dtype=int)\n",
        "    max_weight = 2 ** (m - r - 1) - 1\n",
        "    index = 0\n",
        "\n",
        "    def process_counts(zeros_count, ones_count):\n",
        "        nonlocal index\n",
        "        if zeros_count > max_weight and ones_count > max_weight:\n",
        "            return True\n",
        "\n",
        "        if zeros_count > (2 ** (m - r - 1)):\n",
        "            Mi[index] = 0\n",
        "            index += 1\n",
        "\n",
        "        if ones_count > (2 ** (m - r - 1)):\n",
        "            Mi[index] = 1\n",
        "            index += 1\n",
        "            V = construct_vector_V(J, m)\n",
        "            w_r[:] = (w_r + V) % 2\n",
        "\n",
        "        return False\n",
        "\n",
        "    while True:\n",
        "        for J in sort_indices_for_majority(m, r):\n",
        "            zeros_count, ones_count = 0, 0\n",
        "\n",
        "            for t in construct_vector_H(J, m):\n",
        "                komplement = find_complement(J, m)\n",
        "                V = construct_V_I_t(komplement, m, t)\n",
        "                c = np.dot(w_r, V) % 2\n",
        "\n",
        "                if c == 0:\n",
        "                    zeros_count += 1\n",
        "                else:\n",
        "                    ones_count += 1\n",
        "\n",
        "            if process_counts(zeros_count, ones_count):\n",
        "                return\n",
        "\n",
        "        if r > 0:\n",
        "            if len(w_r) < max_weight:\n",
        "                for J in sort_indices_for_majority(m, r + 1):\n",
        "                    Mi[index] = 0\n",
        "                    index += 1\n",
        "                break\n",
        "            r -= 1\n",
        "        else:\n",
        "            break\n",
        "\n",
        "    return Mi[::-1]"
      ],
      "metadata": {
        "id": "GnExOXmz4AS4"
      },
      "execution_count": 97,
      "outputs": []
    },
    {
      "cell_type": "code",
      "source": [
        "def create_word_with_errors(G, error_count):\n",
        "    \"\"\"\n",
        "    Генерирует бинарное слово с заданным количеством ошибок.\n",
        "\n",
        "    :param G: Генерационная матрица, используемая для кодирования исходного сообщения.\n",
        "    :param error_count: Количество ошибок, которые необходимо ввести в закодированное слово.\n",
        "    :return: Бинарное слово с введенными ошибками.\n",
        "    \"\"\"\n",
        "    u = np.array([1, 0, 0, 0, 1, 1, 0, 0, 0, 1, 1])\n",
        "    print(\"Исходное сообщение: \", u)\n",
        "\n",
        "    u = u.dot(G) % 2\n",
        "    mistake_positions = np.random.choice(len(u), size=error_count, replace=False)\n",
        "    u[mistake_positions] = (u[mistake_positions] + 1) % 2\n",
        "\n",
        "    return u\n"
      ],
      "metadata": {
        "id": "OAK3ZIAciK9T"
      },
      "execution_count": 98,
      "outputs": []
    },
    {
      "cell_type": "markdown",
      "source": [
        "# **5.3**"
      ],
      "metadata": {
        "id": "hCr9t8hXrY8W"
      }
    },
    {
      "cell_type": "code",
      "source": [
        "# Эксперимент для однократной ошибки\n",
        "Err = create_word_with_errors(G, 1)\n",
        "print(\"Слово с однократной ошибкой:\", Err)\n",
        "print()\n"
      ],
      "metadata": {
        "colab": {
          "base_uri": "https://localhost:8080/"
        },
        "id": "YWkihVTXiiGk",
        "outputId": "6fafdf52-919c-47bb-f8c2-506909a0880a"
      },
      "execution_count": 99,
      "outputs": [
        {
          "output_type": "stream",
          "name": "stdout",
          "text": [
            "Исходное сообщение:  [1 0 0 0 1 1 0 0 0 1 1]\n",
            "Слово с однократной ошибкой: [1 0 0 0 1 1 0 1 0 1 1 1 1 0 0 1]\n",
            "\n"
          ]
        }
      ]
    },
    {
      "cell_type": "code",
      "source": [
        "Decoded_word = majority_decoding_algorithm(Err, 2, 4, len(G))\n",
        "if Decoded_word is None:\n",
        "    print(\"\\nНеобходима повторная отправка сообщения\")\n",
        "else:\n",
        "    print(\"Исправленное слово:\", Decoded_word)\n",
        "    V2 = Decoded_word.dot(G) % 2\n",
        "    print(\"Результат умножения исправленного слова на матрицу G:\", V2)\n"
      ],
      "metadata": {
        "colab": {
          "base_uri": "https://localhost:8080/"
        },
        "id": "VTGgBqOB4Q2Y",
        "outputId": "69a6834b-103b-4c46-ce28-b3827c7ee5d5"
      },
      "execution_count": 100,
      "outputs": [
        {
          "output_type": "stream",
          "name": "stdout",
          "text": [
            "Исправленное слово: [1 1 0 0 0 1 1 0 0 0 1]\n",
            "Результат умножения исправленного слова на матрицу G: [1 0 1 1 0 1 0 0 0 1 1 1 0 1 1 1]\n"
          ]
        }
      ]
    },
    {
      "cell_type": "code",
      "source": [
        "# Эксперимент для двукратной ошибки\n",
        "Err = create_word_with_errors(G, 2)\n",
        "print(\"Слово с двукратной ошибкой:\", Err)\n",
        "\n"
      ],
      "metadata": {
        "colab": {
          "base_uri": "https://localhost:8080/"
        },
        "id": "y5nUZEusiiAw",
        "outputId": "1d7df6f2-d212-4690-f39d-5a6e155bf19a"
      },
      "execution_count": 101,
      "outputs": [
        {
          "output_type": "stream",
          "name": "stdout",
          "text": [
            "Исходное сообщение:  [1 0 0 0 1 1 0 0 0 1 1]\n",
            "Слово с двукратной ошибкой: [1 1 0 0 0 1 0 1 0 1 1 1 1 1 0 1]\n"
          ]
        }
      ]
    },
    {
      "cell_type": "code",
      "source": [
        "Decoded_word = majority_decoding_algorithm(Err, 2, 4, len(G))\n",
        "if Decoded_word is None:\n",
        "   print(\"\\nНеобходима повторная отправка сообщения\")\n",
        "else:\n",
        "   print(\"Исправленное слово:\", Decoded_word)\n",
        "   V2 = Decoded_word.dot(G) % 2\n",
        "   print(\"Результат умножения исправленного слова на матрицу G:\", V2)"
      ],
      "metadata": {
        "colab": {
          "base_uri": "https://localhost:8080/"
        },
        "id": "tBV9FLat4VSw",
        "outputId": "9d96d420-8f17-42ce-95ad-de019978117b"
      },
      "execution_count": 102,
      "outputs": [
        {
          "output_type": "stream",
          "name": "stdout",
          "text": [
            "\n",
            "Необходима повторная отправка сообщения\n"
          ]
        }
      ]
    }
  ]
}